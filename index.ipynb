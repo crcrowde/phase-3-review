{
 "cells": [
  {
   "cell_type": "code",
   "execution_count": null,
   "source": [
    "# Basic imports\n",
    "import pandas as pd\n",
    "import numpy as np\n",
    "\n",
    "# Read data into dataframe and remove whitespace from columns\n",
    "df = pd.read_csv('data/adult.csv')\n",
    "df.columns = [col.strip() for col in df.columns]\n",
    "\n",
    "# Replace '?' with np.nan\n",
    "df = df.replace(' ?', np.nan)\n",
    "\n",
    "# Convert salary column to 0 and 1\n",
    "df['salary'] = [1 if s==' >50K.' else 0 for s in df['salary']]\n",
    "\n",
    "# Drop fnlwgt column\n",
    "df = df.drop('fnlwgt', axis=1)\n",
    "\n",
    "# Print shape and head\n",
    "print('Shape: ', df.shape)\n",
    "df.head()"
   ],
   "outputs": [],
   "metadata": {}
  },
  {
   "cell_type": "markdown",
   "source": [],
   "metadata": {}
  }
 ],
 "metadata": {
  "kernelspec": {
   "display_name": "Python (learn-env)",
   "language": "python",
   "name": "learn-env"
  },
  "language_info": {
   "codemirror_mode": {
    "name": "ipython",
    "version": 3
   },
   "file_extension": ".py",
   "mimetype": "text/x-python",
   "name": "python",
   "nbconvert_exporter": "python",
   "pygments_lexer": "ipython3",
   "version": "3.8.5"
  }
 },
 "nbformat": 4,
 "nbformat_minor": 4
}